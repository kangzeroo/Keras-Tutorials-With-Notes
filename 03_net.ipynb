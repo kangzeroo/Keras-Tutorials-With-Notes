{
 "cells": [
  {
   "cell_type": "markdown",
   "metadata": {},
   "source": [
    "# Keras RNN"
   ]
  },
  {
   "cell_type": "markdown",
   "metadata": {},
   "source": [
    "This is a walkthrough of how to make a simple Recurrent Neural Net using Keras"
   ]
  },
  {
   "cell_type": "markdown",
   "metadata": {},
   "source": [
    "### Import dependencies"
   ]
  },
  {
   "cell_type": "code",
   "execution_count": 1,
   "metadata": {},
   "outputs": [
    {
     "name": "stderr",
     "output_type": "stream",
     "text": [
      "/usr/local/lib/python3.6/dist-packages/h5py/__init__.py:36: FutureWarning: Conversion of the second argument of issubdtype from `float` to `np.floating` is deprecated. In future, it will be treated as `np.float64 == np.dtype(float).type`.\n",
      "  from ._conv import register_converters as _register_converters\n",
      "Using TensorFlow backend.\n"
     ]
    }
   ],
   "source": [
    "from keras.models import Sequential\n",
    "from keras.layers import Dense\n",
    "from keras.optimizers import SGD\n",
    "from keras.datasets import mnist\n",
    "from keras.utils import np_utils"
   ]
  },
  {
   "cell_type": "markdown",
   "metadata": {},
   "source": [
    "## Data Cleanup"
   ]
  },
  {
   "cell_type": "markdown",
   "metadata": {},
   "source": [
    "### Set our hyperparameters"
   ]
  },
  {
   "cell_type": "code",
   "execution_count": 2,
   "metadata": {},
   "outputs": [],
   "source": [
    "# length of input vector\n",
    "batch_size = 128\n",
    "# number of epochs trained\n",
    "nb_epoch = 100"
   ]
  },
  {
   "cell_type": "markdown",
   "metadata": {},
   "source": [
    "### Define our possible outcomes"
   ]
  },
  {
   "cell_type": "code",
   "execution_count": 3,
   "metadata": {},
   "outputs": [],
   "source": [
    "# possible outcomes\n",
    "nb_classes = 10"
   ]
  },
  {
   "cell_type": "markdown",
   "metadata": {},
   "source": [
    "### Import our data"
   ]
  },
  {
   "cell_type": "code",
   "execution_count": 4,
   "metadata": {},
   "outputs": [],
   "source": [
    "# Load the MNIST dataset, extract out into tuples\n",
    "# we organize it into training and testing sets\n",
    "(X_train, y_train), (X_test, y_test) = mnist.load_data()"
   ]
  },
  {
   "cell_type": "code",
   "execution_count": 5,
   "metadata": {},
   "outputs": [
    {
     "data": {
      "text/plain": [
       "(60000, 28, 28)"
      ]
     },
     "execution_count": 5,
     "metadata": {},
     "output_type": "execute_result"
    }
   ],
   "source": [
    "# X_train vector has 60k samples of 28x28 (image width * height)\n",
    "# X_train.shape = (60000, 28, 28) which means it is a 3D tensor\n",
    "# but practically it is 60k rows of 2D matrix pixel images\n",
    "X_train.shape"
   ]
  },
  {
   "cell_type": "markdown",
   "metadata": {},
   "source": [
    "### Reshape inputs as a 1D vector"
   ]
  },
  {
   "cell_type": "code",
   "execution_count": 6,
   "metadata": {},
   "outputs": [
    {
     "data": {
      "text/plain": [
       "(60000, 784)"
      ]
     },
     "execution_count": 6,
     "metadata": {},
     "output_type": "execute_result"
    }
   ],
   "source": [
    "# we reshape the 3D Tensor to a 2D Matrix of 1D vectors (28x28=784)\n",
    "X_train = X_train.reshape(60000, 784)\n",
    "# X_train.shape = (60000, 784)\n",
    "X_train.shape"
   ]
  },
  {
   "cell_type": "code",
   "execution_count": 7,
   "metadata": {},
   "outputs": [
    {
     "data": {
      "text/plain": [
       "(10000, 28, 28)"
      ]
     },
     "execution_count": 7,
     "metadata": {},
     "output_type": "execute_result"
    }
   ],
   "source": [
    "# X_test is similar, but it has only 10k samples\n",
    "X_test.shape"
   ]
  },
  {
   "cell_type": "code",
   "execution_count": 8,
   "metadata": {},
   "outputs": [
    {
     "data": {
      "text/plain": [
       "(10000, 784)"
      ]
     },
     "execution_count": 8,
     "metadata": {},
     "output_type": "execute_result"
    }
   ],
   "source": [
    "# but we also reshape it into a 2D matrix\n",
    "X_test = X_test.reshape(10000, 784)\n",
    "X_test.shape"
   ]
  },
  {
   "cell_type": "code",
   "execution_count": 9,
   "metadata": {},
   "outputs": [
    {
     "data": {
      "text/plain": [
       "dtype('uint8')"
      ]
     },
     "execution_count": 9,
     "metadata": {},
     "output_type": "execute_result"
    }
   ],
   "source": [
    "# lets look at the datatype of our data - `uint8`\n",
    "X_train.dtype"
   ]
  },
  {
   "cell_type": "code",
   "execution_count": 10,
   "metadata": {},
   "outputs": [
    {
     "data": {
      "text/plain": [
       "dtype('float32')"
      ]
     },
     "execution_count": 10,
     "metadata": {},
     "output_type": "execute_result"
    }
   ],
   "source": [
    "# lets change our data's type to be a number - `float32`\n",
    "# because matrix values must be numbers\n",
    "X_train = X_train.astype('float32')\n",
    "X_train.dtype\n",
    "\n",
    "# repeat for X_test inputs\n",
    "X_test = X_test.astype('float32')\n",
    "X_test.dtype"
   ]
  },
  {
   "cell_type": "code",
   "execution_count": 11,
   "metadata": {},
   "outputs": [
    {
     "data": {
      "text/plain": [
       "array([[0., 0., 0., ..., 0., 0., 0.],\n",
       "       [0., 0., 0., ..., 0., 0., 0.],\n",
       "       [0., 0., 0., ..., 0., 0., 0.],\n",
       "       ...,\n",
       "       [0., 0., 0., ..., 0., 0., 0.],\n",
       "       [0., 0., 0., ..., 0., 0., 0.],\n",
       "       [0., 0., 0., ..., 0., 0., 0.]], dtype=float32)"
      ]
     },
     "execution_count": 11,
     "metadata": {},
     "output_type": "execute_result"
    }
   ],
   "source": [
    "# ----- Not sure what this does?? Couldnt see a difference before vs after\n",
    "X_train /= 255\n",
    "X_test /= 255\n",
    "\n",
    "X_train"
   ]
  },
  {
   "cell_type": "code",
   "execution_count": 12,
   "metadata": {},
   "outputs": [
    {
     "data": {
      "text/plain": [
       "array([5, 0, 4, ..., 5, 6, 8], dtype=uint8)"
      ]
     },
     "execution_count": 12,
     "metadata": {},
     "output_type": "execute_result"
    }
   ],
   "source": [
    "# the labels are 1D vectors\n",
    "y_train.shape\n",
    "y_test.shape\n",
    "\n",
    "# containing scaler values\n",
    "y_train"
   ]
  },
  {
   "cell_type": "code",
   "execution_count": 13,
   "metadata": {},
   "outputs": [
    {
     "data": {
      "text/plain": [
       "(60000, 10)"
      ]
     },
     "execution_count": 13,
     "metadata": {},
     "output_type": "execute_result"
    }
   ],
   "source": [
    "# .to_categgorical() converts our scaler labels into a 1D binary class vector, used for softmax\n",
    "Y_Train = np_utils.to_categorical(y_train, nb_classes)\n",
    "Y_Test = np_utils.to_categorical(y_test, nb_classes)\n",
    "\n",
    "# we have converted scalers into 1D vectors\n",
    "# (60000,) -> (60000, 10)\n",
    "Y_Train.shape"
   ]
  },
  {
   "cell_type": "markdown",
   "metadata": {},
   "source": [
    "## The Neural Net Architecture"
   ]
  },
  {
   "cell_type": "code",
   "execution_count": 14,
   "metadata": {},
   "outputs": [
    {
     "name": "stdout",
     "output_type": "stream",
     "text": [
      "_________________________________________________________________\n",
      "Layer (type)                 Output Shape              Param #   \n",
      "=================================================================\n",
      "Total params: 0\n",
      "Trainable params: 0\n",
      "Non-trainable params: 0\n",
      "_________________________________________________________________\n"
     ]
    }
   ],
   "source": [
    "# Multilayer Perceptron model\n",
    "# the simpliest neural net model\n",
    "# it is instantiated from Keras.models.Sequential\n",
    "# Sequential() is a linearly connected neural net\n",
    "model = Sequential()\n",
    "\n",
    "# lets look at our neural net so far\n",
    "model.summary()"
   ]
  },
  {
   "cell_type": "code",
   "execution_count": 15,
   "metadata": {},
   "outputs": [
    {
     "name": "stdout",
     "output_type": "stream",
     "text": [
      "_________________________________________________________________\n",
      "Layer (type)                 Output Shape              Param #   \n",
      "=================================================================\n",
      "dense_1 (Dense)              (None, 625)               490625    \n",
      "=================================================================\n",
      "Total params: 490,625\n",
      "Trainable params: 490,625\n",
      "Non-trainable params: 0\n",
      "_________________________________________________________________\n"
     ]
    }
   ],
   "source": [
    "# add the first layer to the model\n",
    "# it will be a `Dense` layer, which means every node is connected to the next\n",
    "model.add(Dense(\n",
    "    units=625,\n",
    "    input_dim=784,\n",
    "    kernel_initializer='random_normal',\n",
    "    activation='sigmoid'\n",
    "))\n",
    "# Dense.units -> dimensionality of the output space\n",
    "# Dense.input_dim -> dimensionality of the input vector\n",
    "# Dense.kernel_initializer -> how the layer's kernal should start out\n",
    "# Dense.activation -> the nonlinearity applied\n",
    "\n",
    "# ----- why did we pick units=625 ?\n",
    "\n",
    "# lets look at our neural net so far\n",
    "model.summary()"
   ]
  },
  {
   "cell_type": "code",
   "execution_count": 16,
   "metadata": {},
   "outputs": [],
   "source": [
    "# lets add one more dense layer\n",
    "# notice how the input_dim=625 and the output units=625\n",
    "model.add(Dense(units=625, input_dim=625, kernel_initializer='normal', activation='sigmoid'))"
   ]
  },
  {
   "cell_type": "code",
   "execution_count": 17,
   "metadata": {},
   "outputs": [
    {
     "name": "stdout",
     "output_type": "stream",
     "text": [
      "_________________________________________________________________\n",
      "Layer (type)                 Output Shape              Param #   \n",
      "=================================================================\n",
      "dense_1 (Dense)              (None, 625)               490625    \n",
      "_________________________________________________________________\n",
      "dense_2 (Dense)              (None, 625)               391250    \n",
      "_________________________________________________________________\n",
      "dense_3 (Dense)              (None, 10)                6260      \n",
      "=================================================================\n",
      "Total params: 888,135\n",
      "Trainable params: 888,135\n",
      "Non-trainable params: 0\n",
      "_________________________________________________________________\n"
     ]
    }
   ],
   "source": [
    "# and then end off with a final softmax layer\n",
    "# notice the input_dim=625 but the output units=10\n",
    "# also notice how our non-linearity is softmax this time\n",
    "model.add(Dense(units=10, input_dim=625, kernel_initializer='normal', activation='softmax'))\n",
    "\n",
    "# lets look at our neural net so far\n",
    "model.summary()"
   ]
  },
  {
   "cell_type": "code",
   "execution_count": 18,
   "metadata": {},
   "outputs": [
    {
     "name": "stdout",
     "output_type": "stream",
     "text": [
      "_________________________________________________________________\n",
      "Layer (type)                 Output Shape              Param #   \n",
      "=================================================================\n",
      "dense_1 (Dense)              (None, 625)               490625    \n",
      "_________________________________________________________________\n",
      "dense_2 (Dense)              (None, 625)               391250    \n",
      "_________________________________________________________________\n",
      "dense_3 (Dense)              (None, 10)                6260      \n",
      "=================================================================\n",
      "Total params: 888,135\n",
      "Trainable params: 888,135\n",
      "Non-trainable params: 0\n",
      "_________________________________________________________________\n"
     ]
    }
   ],
   "source": [
    "# now we're ready to compile our model\n",
    "# choose which settings to use\n",
    "model.compile(\n",
    "    optimizer=SGD(lr=0.05),\n",
    "    loss='categorical_crossentropy',\n",
    "    metrics=['accuracy']\n",
    ")\n",
    "# optimizer=SGD(lr=0.05) means use Stoichastic Gradient Descent with a learning rate of 5%\n",
    "# loss='categorical_crossentropy' is the chosen loss metric we want to minimize\n",
    "# metrics=['accuracy'] means the performance of our model is being judged based on how accurate its predictions are\n",
    "\n",
    "# now lets look at our model\n",
    "model.summary()"
   ]
  },
  {
   "cell_type": "markdown",
   "metadata": {},
   "source": [
    "## The Training Phase"
   ]
  },
  {
   "cell_type": "code",
   "execution_count": 19,
   "metadata": {},
   "outputs": [
    {
     "name": "stdout",
     "output_type": "stream",
     "text": [
      "Epoch 1/100\n",
      "60000/60000 [==============================] - 89s 1ms/step - loss: 1.9215 - acc: 0.4168\n",
      "Epoch 2/100\n",
      "60000/60000 [==============================] - 2s 31us/step - loss: 0.9361 - acc: 0.7767\n",
      "Epoch 3/100\n",
      "60000/60000 [==============================] - 2s 31us/step - loss: 0.5856 - acc: 0.8495\n",
      "Epoch 4/100\n",
      "60000/60000 [==============================] - 2s 31us/step - loss: 0.4705 - acc: 0.8729\n",
      "Epoch 5/100\n",
      "60000/60000 [==============================] - 2s 31us/step - loss: 0.4164 - acc: 0.8836\n",
      "Epoch 6/100\n",
      "60000/60000 [==============================] - 2s 31us/step - loss: 0.3847 - acc: 0.8915\n",
      "Epoch 7/100\n",
      "60000/60000 [==============================] - 2s 31us/step - loss: 0.3639 - acc: 0.8956\n",
      "Epoch 8/100\n",
      "60000/60000 [==============================] - 2s 31us/step - loss: 0.3495 - acc: 0.9000\n",
      "Epoch 9/100\n",
      "60000/60000 [==============================] - 2s 31us/step - loss: 0.3374 - acc: 0.9025\n",
      "Epoch 10/100\n",
      "60000/60000 [==============================] - 2s 31us/step - loss: 0.3284 - acc: 0.9048\n",
      "Epoch 11/100\n",
      "60000/60000 [==============================] - 2s 31us/step - loss: 0.3208 - acc: 0.9064\n",
      "Epoch 12/100\n",
      "60000/60000 [==============================] - 2s 31us/step - loss: 0.3142 - acc: 0.9091\n",
      "Epoch 13/100\n",
      "60000/60000 [==============================] - 2s 31us/step - loss: 0.3081 - acc: 0.9105\n",
      "Epoch 14/100\n",
      "60000/60000 [==============================] - 2s 31us/step - loss: 0.3038 - acc: 0.9118\n",
      "Epoch 15/100\n",
      "60000/60000 [==============================] - 2s 30us/step - loss: 0.2995 - acc: 0.9126\n",
      "Epoch 16/100\n",
      "60000/60000 [==============================] - 2s 31us/step - loss: 0.2951 - acc: 0.9143\n",
      "Epoch 17/100\n",
      "60000/60000 [==============================] - 2s 31us/step - loss: 0.2912 - acc: 0.9147\n",
      "Epoch 18/100\n",
      "60000/60000 [==============================] - 2s 31us/step - loss: 0.2875 - acc: 0.9172\n",
      "Epoch 19/100\n",
      "60000/60000 [==============================] - 2s 31us/step - loss: 0.2845 - acc: 0.9172\n",
      "Epoch 20/100\n",
      "60000/60000 [==============================] - 2s 31us/step - loss: 0.2814 - acc: 0.9180\n",
      "Epoch 21/100\n",
      "60000/60000 [==============================] - 2s 32us/step - loss: 0.2782 - acc: 0.9191\n",
      "Epoch 22/100\n",
      "60000/60000 [==============================] - 2s 32us/step - loss: 0.2755 - acc: 0.9202\n",
      "Epoch 23/100\n",
      "60000/60000 [==============================] - 2s 31us/step - loss: 0.2723 - acc: 0.9214\n",
      "Epoch 24/100\n",
      "60000/60000 [==============================] - 2s 31us/step - loss: 0.2695 - acc: 0.9216\n",
      "Epoch 25/100\n",
      "60000/60000 [==============================] - 2s 31us/step - loss: 0.2667 - acc: 0.9229\n",
      "Epoch 26/100\n",
      "60000/60000 [==============================] - 2s 31us/step - loss: 0.2641 - acc: 0.9234\n",
      "Epoch 27/100\n",
      "60000/60000 [==============================] - 2s 31us/step - loss: 0.2618 - acc: 0.9249\n",
      "Epoch 28/100\n",
      "60000/60000 [==============================] - 2s 31us/step - loss: 0.2592 - acc: 0.9246\n",
      "Epoch 29/100\n",
      "60000/60000 [==============================] - 2s 31us/step - loss: 0.2562 - acc: 0.9253\n",
      "Epoch 30/100\n",
      "60000/60000 [==============================] - 2s 31us/step - loss: 0.2530 - acc: 0.9268\n",
      "Epoch 31/100\n",
      "60000/60000 [==============================] - 2s 31us/step - loss: 0.2508 - acc: 0.9284\n",
      "Epoch 32/100\n",
      "60000/60000 [==============================] - 2s 31us/step - loss: 0.2476 - acc: 0.9288\n",
      "Epoch 33/100\n",
      "60000/60000 [==============================] - 2s 31us/step - loss: 0.2448 - acc: 0.9300\n",
      "Epoch 34/100\n",
      "60000/60000 [==============================] - 2s 31us/step - loss: 0.2426 - acc: 0.9300\n",
      "Epoch 35/100\n",
      "60000/60000 [==============================] - 2s 31us/step - loss: 0.2395 - acc: 0.9320\n",
      "Epoch 36/100\n",
      "60000/60000 [==============================] - 2s 30us/step - loss: 0.2368 - acc: 0.9318\n",
      "Epoch 37/100\n",
      "60000/60000 [==============================] - 2s 31us/step - loss: 0.2339 - acc: 0.9319\n",
      "Epoch 38/100\n",
      "60000/60000 [==============================] - 2s 31us/step - loss: 0.2315 - acc: 0.9332\n",
      "Epoch 39/100\n",
      "60000/60000 [==============================] - 2s 31us/step - loss: 0.2285 - acc: 0.9345\n",
      "Epoch 40/100\n",
      "60000/60000 [==============================] - 2s 31us/step - loss: 0.2260 - acc: 0.9355\n",
      "Epoch 41/100\n",
      "60000/60000 [==============================] - 2s 31us/step - loss: 0.2233 - acc: 0.9359\n",
      "Epoch 42/100\n",
      "60000/60000 [==============================] - 2s 31us/step - loss: 0.2205 - acc: 0.9365\n",
      "Epoch 43/100\n",
      "60000/60000 [==============================] - 2s 31us/step - loss: 0.2172 - acc: 0.9380\n",
      "Epoch 44/100\n",
      "60000/60000 [==============================] - 2s 31us/step - loss: 0.2143 - acc: 0.9384\n",
      "Epoch 45/100\n",
      "60000/60000 [==============================] - 2s 31us/step - loss: 0.2119 - acc: 0.9393\n",
      "Epoch 46/100\n",
      "60000/60000 [==============================] - 2s 31us/step - loss: 0.2091 - acc: 0.9399\n",
      "Epoch 47/100\n",
      "60000/60000 [==============================] - 2s 31us/step - loss: 0.2064 - acc: 0.9408\n",
      "Epoch 48/100\n",
      "60000/60000 [==============================] - 2s 31us/step - loss: 0.2032 - acc: 0.9422\n",
      "Epoch 49/100\n",
      "60000/60000 [==============================] - 2s 31us/step - loss: 0.2011 - acc: 0.9427\n",
      "Epoch 50/100\n",
      "60000/60000 [==============================] - 2s 31us/step - loss: 0.1986 - acc: 0.9436\n",
      "Epoch 51/100\n",
      "60000/60000 [==============================] - 2s 31us/step - loss: 0.1960 - acc: 0.9442\n",
      "Epoch 52/100\n",
      "60000/60000 [==============================] - 2s 31us/step - loss: 0.1933 - acc: 0.9447\n",
      "Epoch 53/100\n",
      "60000/60000 [==============================] - 2s 31us/step - loss: 0.1909 - acc: 0.9460\n",
      "Epoch 54/100\n",
      "60000/60000 [==============================] - 2s 33us/step - loss: 0.1880 - acc: 0.9460\n",
      "Epoch 55/100\n",
      "60000/60000 [==============================] - 2s 31us/step - loss: 0.1856 - acc: 0.9471\n",
      "Epoch 56/100\n",
      "60000/60000 [==============================] - 2s 31us/step - loss: 0.1834 - acc: 0.9474\n",
      "Epoch 57/100\n",
      "60000/60000 [==============================] - 2s 31us/step - loss: 0.1811 - acc: 0.9477\n",
      "Epoch 58/100\n",
      "60000/60000 [==============================] - 2s 31us/step - loss: 0.1787 - acc: 0.9488\n",
      "Epoch 59/100\n",
      "60000/60000 [==============================] - 2s 31us/step - loss: 0.1763 - acc: 0.9494\n",
      "Epoch 60/100\n",
      "60000/60000 [==============================] - 2s 31us/step - loss: 0.1740 - acc: 0.9503\n",
      "Epoch 61/100\n",
      "60000/60000 [==============================] - 2s 31us/step - loss: 0.1719 - acc: 0.9508\n",
      "Epoch 62/100\n",
      "60000/60000 [==============================] - 2s 30us/step - loss: 0.1696 - acc: 0.9517\n",
      "Epoch 63/100\n",
      "60000/60000 [==============================] - 2s 31us/step - loss: 0.1679 - acc: 0.9518\n",
      "Epoch 64/100\n",
      "60000/60000 [==============================] - 2s 31us/step - loss: 0.1656 - acc: 0.9525\n",
      "Epoch 65/100\n",
      "60000/60000 [==============================] - 2s 31us/step - loss: 0.1637 - acc: 0.9535\n",
      "Epoch 66/100\n",
      "60000/60000 [==============================] - 2s 31us/step - loss: 0.1616 - acc: 0.9527\n",
      "Epoch 67/100\n",
      "60000/60000 [==============================] - 2s 31us/step - loss: 0.1597 - acc: 0.9539\n",
      "Epoch 68/100\n",
      "60000/60000 [==============================] - 2s 31us/step - loss: 0.1578 - acc: 0.9548\n",
      "Epoch 69/100\n",
      "60000/60000 [==============================] - 2s 31us/step - loss: 0.1559 - acc: 0.9554\n",
      "Epoch 70/100\n",
      "60000/60000 [==============================] - 2s 31us/step - loss: 0.1538 - acc: 0.9563\n",
      "Epoch 71/100\n",
      "60000/60000 [==============================] - 2s 31us/step - loss: 0.1523 - acc: 0.9562\n",
      "Epoch 72/100\n",
      "60000/60000 [==============================] - 2s 31us/step - loss: 0.1504 - acc: 0.9567\n",
      "Epoch 73/100\n",
      "60000/60000 [==============================] - 2s 31us/step - loss: 0.1484 - acc: 0.9574\n",
      "Epoch 74/100\n",
      "60000/60000 [==============================] - 2s 31us/step - loss: 0.1470 - acc: 0.9576\n",
      "Epoch 75/100\n",
      "60000/60000 [==============================] - 2s 31us/step - loss: 0.1448 - acc: 0.9583\n",
      "Epoch 76/100\n",
      "60000/60000 [==============================] - 2s 31us/step - loss: 0.1433 - acc: 0.9583\n",
      "Epoch 77/100\n",
      "60000/60000 [==============================] - 2s 31us/step - loss: 0.1417 - acc: 0.9590\n",
      "Epoch 78/100\n",
      "60000/60000 [==============================] - 2s 31us/step - loss: 0.1400 - acc: 0.9597\n",
      "Epoch 79/100\n",
      "60000/60000 [==============================] - 2s 31us/step - loss: 0.1383 - acc: 0.9598\n",
      "Epoch 80/100\n",
      "60000/60000 [==============================] - 2s 31us/step - loss: 0.1368 - acc: 0.9610\n",
      "Epoch 81/100\n"
     ]
    },
    {
     "name": "stdout",
     "output_type": "stream",
     "text": [
      "60000/60000 [==============================] - 2s 31us/step - loss: 0.1352 - acc: 0.9610\n",
      "Epoch 82/100\n",
      "60000/60000 [==============================] - 2s 31us/step - loss: 0.1336 - acc: 0.9613\n",
      "Epoch 83/100\n",
      "60000/60000 [==============================] - 2s 31us/step - loss: 0.1325 - acc: 0.9616\n",
      "Epoch 84/100\n",
      "60000/60000 [==============================] - 2s 31us/step - loss: 0.1305 - acc: 0.9624\n",
      "Epoch 85/100\n",
      "60000/60000 [==============================] - 2s 31us/step - loss: 0.1291 - acc: 0.9630\n",
      "Epoch 86/100\n",
      "60000/60000 [==============================] - 2s 32us/step - loss: 0.1279 - acc: 0.9630\n",
      "Epoch 87/100\n",
      "60000/60000 [==============================] - 2s 33us/step - loss: 0.1263 - acc: 0.9640\n",
      "Epoch 88/100\n",
      "60000/60000 [==============================] - 2s 31us/step - loss: 0.1248 - acc: 0.9642\n",
      "Epoch 89/100\n",
      "60000/60000 [==============================] - 2s 31us/step - loss: 0.1236 - acc: 0.9648\n",
      "Epoch 90/100\n",
      "60000/60000 [==============================] - 2s 31us/step - loss: 0.1225 - acc: 0.9646\n",
      "Epoch 91/100\n",
      "60000/60000 [==============================] - 2s 31us/step - loss: 0.1209 - acc: 0.9652\n",
      "Epoch 92/100\n",
      "60000/60000 [==============================] - 2s 31us/step - loss: 0.1199 - acc: 0.9654\n",
      "Epoch 93/100\n",
      "60000/60000 [==============================] - 2s 31us/step - loss: 0.1184 - acc: 0.9659\n",
      "Epoch 94/100\n",
      "60000/60000 [==============================] - 2s 31us/step - loss: 0.1170 - acc: 0.9664\n",
      "Epoch 95/100\n",
      "60000/60000 [==============================] - 2s 31us/step - loss: 0.1158 - acc: 0.9665\n",
      "Epoch 96/100\n",
      "60000/60000 [==============================] - 2s 31us/step - loss: 0.1146 - acc: 0.9673\n",
      "Epoch 97/100\n",
      "60000/60000 [==============================] - 2s 31us/step - loss: 0.1131 - acc: 0.9676\n",
      "Epoch 98/100\n",
      "60000/60000 [==============================] - 2s 31us/step - loss: 0.1123 - acc: 0.9676\n",
      "Epoch 99/100\n",
      "60000/60000 [==============================] - 2s 31us/step - loss: 0.1108 - acc: 0.9682\n",
      "Epoch 100/100\n",
      "60000/60000 [==============================] - 2s 31us/step - loss: 0.1101 - acc: 0.9682\n"
     ]
    }
   ],
   "source": [
    "# Fit our model on the training data\n",
    "# we pass in our training input, X_train.shape = (60000, 784)\n",
    "# we pass in our training labels, Y_Train.shape = (60000, 10)\n",
    "history = model.fit(X_train, Y_Train, epochs=nb_epoch, batch_size=batch_size, verbose=1)\n",
    "\n",
    "# nb_epoch = # of epochs to train for. each epoch trains over all X_train\n",
    "# batch_size = # of images in each training batch. multiple batches add up to X_train in 1 epoch\n",
    "# verbose = show logged output of training progress"
   ]
  },
  {
   "cell_type": "markdown",
   "metadata": {},
   "source": [
    "## The Validation Phase"
   ]
  },
  {
   "cell_type": "code",
   "execution_count": 20,
   "metadata": {},
   "outputs": [
    {
     "name": "stdout",
     "output_type": "stream",
     "text": [
      "10000/10000 [==============================] - 0s 48us/step\n",
      "Summary: Loss over the test dataset: 0.12, Accuracy: 0.96\n"
     ]
    }
   ],
   "source": [
    "# Now that our neural nets have been trained, we can validate their accuracy on the test set\n",
    "# X_test.shape=(10000, 784) and Y_Test.shape=(10000, 10)\n",
    "evaluation = model.evaluate(X_test, Y_Test, verbose=1)\n",
    "\n",
    "# lets view the results of validation test. was our model trained accurately?\n",
    "print('Summary: Loss over the test dataset: %.2f, Accuracy: %.2f' % (evaluation[0], evaluation[1]))"
   ]
  },
  {
   "cell_type": "markdown",
   "metadata": {},
   "source": [
    "## Done"
   ]
  },
  {
   "cell_type": "code",
   "execution_count": null,
   "metadata": {},
   "outputs": [],
   "source": []
  }
 ],
 "metadata": {
  "kernelspec": {
   "display_name": "Python 3",
   "language": "python",
   "name": "python3"
  },
  "language_info": {
   "codemirror_mode": {
    "name": "ipython",
    "version": 3
   },
   "file_extension": ".py",
   "mimetype": "text/x-python",
   "name": "python",
   "nbconvert_exporter": "python",
   "pygments_lexer": "ipython3",
   "version": "3.6.3"
  }
 },
 "nbformat": 4,
 "nbformat_minor": 1
}
